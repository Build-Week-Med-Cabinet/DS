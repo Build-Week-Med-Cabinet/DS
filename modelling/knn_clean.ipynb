{
 "cells": [
  {
   "cell_type": "code",
   "execution_count": 1,
   "metadata": {},
   "outputs": [],
   "source": [
    "# !unzip cannabis-strains.zip"
   ]
  },
  {
   "cell_type": "markdown",
   "metadata": {},
   "source": [
    "## Data"
   ]
  },
  {
   "cell_type": "code",
   "execution_count": 2,
   "metadata": {},
   "outputs": [],
   "source": [
    "import pandas as pd"
   ]
  },
  {
   "cell_type": "code",
   "execution_count": 9,
   "metadata": {},
   "outputs": [],
   "source": [
    "df = pd.read_csv('../data/clean_can.csv')"
   ]
  },
  {
   "cell_type": "code",
   "execution_count": 10,
   "metadata": {
    "scrolled": true
   },
   "outputs": [
    {
     "data": {
      "text/html": [
       "<div>\n",
       "<style scoped>\n",
       "    .dataframe tbody tr th:only-of-type {\n",
       "        vertical-align: middle;\n",
       "    }\n",
       "\n",
       "    .dataframe tbody tr th {\n",
       "        vertical-align: top;\n",
       "    }\n",
       "\n",
       "    .dataframe thead th {\n",
       "        text-align: right;\n",
       "    }\n",
       "</style>\n",
       "<table border=\"1\" class=\"dataframe\">\n",
       "  <thead>\n",
       "    <tr style=\"text-align: right;\">\n",
       "      <th></th>\n",
       "      <th>Unnamed: 0</th>\n",
       "      <th>index</th>\n",
       "      <th>Strain</th>\n",
       "      <th>Type</th>\n",
       "      <th>Rating</th>\n",
       "      <th>Effects</th>\n",
       "      <th>Flavor</th>\n",
       "      <th>Description</th>\n",
       "    </tr>\n",
       "  </thead>\n",
       "  <tbody>\n",
       "    <tr>\n",
       "      <th>0</th>\n",
       "      <td>0</td>\n",
       "      <td>0</td>\n",
       "      <td>100-og</td>\n",
       "      <td>hybrid</td>\n",
       "      <td>4.0</td>\n",
       "      <td>creative,energetic,tingly,euphoric,relaxed</td>\n",
       "      <td>earthy,sweet,citrus</td>\n",
       "      <td>$100 og is a 50/50 hybrid strain that packs a ...</td>\n",
       "    </tr>\n",
       "    <tr>\n",
       "      <th>1</th>\n",
       "      <td>1</td>\n",
       "      <td>1</td>\n",
       "      <td>98-white-widow</td>\n",
       "      <td>hybrid</td>\n",
       "      <td>4.7</td>\n",
       "      <td>relaxed,aroused,creative,happy,energetic</td>\n",
       "      <td>flowery,violet,diesel</td>\n",
       "      <td>the ‘98 aloha white widow is an especially pot...</td>\n",
       "    </tr>\n",
       "    <tr>\n",
       "      <th>2</th>\n",
       "      <td>2</td>\n",
       "      <td>2</td>\n",
       "      <td>1024</td>\n",
       "      <td>sativa</td>\n",
       "      <td>4.4</td>\n",
       "      <td>uplifted,happy,relaxed,energetic,creative</td>\n",
       "      <td>spicy/herbal,sage,woody</td>\n",
       "      <td>1024 is a sativa-dominant hybrid bred in spain...</td>\n",
       "    </tr>\n",
       "    <tr>\n",
       "      <th>3</th>\n",
       "      <td>3</td>\n",
       "      <td>3</td>\n",
       "      <td>13-dawgs</td>\n",
       "      <td>hybrid</td>\n",
       "      <td>4.2</td>\n",
       "      <td>tingly,creative,hungry,relaxed,uplifted</td>\n",
       "      <td>apricot,citrus,grapefruit</td>\n",
       "      <td>13 dawgs is a hybrid of g13 and chemdawg genet...</td>\n",
       "    </tr>\n",
       "    <tr>\n",
       "      <th>4</th>\n",
       "      <td>4</td>\n",
       "      <td>4</td>\n",
       "      <td>24k-gold</td>\n",
       "      <td>hybrid</td>\n",
       "      <td>4.6</td>\n",
       "      <td>happy,relaxed,euphoric,uplifted,talkative</td>\n",
       "      <td>citrus,earthy,orange</td>\n",
       "      <td>also known as kosher tangie, 24k gold is a 60%...</td>\n",
       "    </tr>\n",
       "  </tbody>\n",
       "</table>\n",
       "</div>"
      ],
      "text/plain": [
       "   Unnamed: 0  index          Strain    Type  Rating  \\\n",
       "0           0      0          100-og  hybrid     4.0   \n",
       "1           1      1  98-white-widow  hybrid     4.7   \n",
       "2           2      2            1024  sativa     4.4   \n",
       "3           3      3        13-dawgs  hybrid     4.2   \n",
       "4           4      4        24k-gold  hybrid     4.6   \n",
       "\n",
       "                                      Effects                     Flavor  \\\n",
       "0  creative,energetic,tingly,euphoric,relaxed        earthy,sweet,citrus   \n",
       "1    relaxed,aroused,creative,happy,energetic      flowery,violet,diesel   \n",
       "2   uplifted,happy,relaxed,energetic,creative    spicy/herbal,sage,woody   \n",
       "3     tingly,creative,hungry,relaxed,uplifted  apricot,citrus,grapefruit   \n",
       "4   happy,relaxed,euphoric,uplifted,talkative       citrus,earthy,orange   \n",
       "\n",
       "                                         Description  \n",
       "0  $100 og is a 50/50 hybrid strain that packs a ...  \n",
       "1  the ‘98 aloha white widow is an especially pot...  \n",
       "2  1024 is a sativa-dominant hybrid bred in spain...  \n",
       "3  13 dawgs is a hybrid of g13 and chemdawg genet...  \n",
       "4  also known as kosher tangie, 24k gold is a 60%...  "
      ]
     },
     "execution_count": 10,
     "metadata": {},
     "output_type": "execute_result"
    }
   ],
   "source": [
    "df.head()"
   ]
  },
  {
   "cell_type": "markdown",
   "metadata": {},
   "source": [
    "## Tokenize & Vectorize"
   ]
  },
  {
   "cell_type": "code",
   "execution_count": 11,
   "metadata": {},
   "outputs": [],
   "source": [
    "from sklearn.feature_extraction.text import CountVectorizer, TfidfVectorizer\n",
    "from sklearn.metrics.pairwise import cosine_similarity\n",
    "from sklearn.neighbors import NearestNeighbors\n",
    "from sklearn.decomposition import PCA\n",
    "\n",
    "import spacy\n",
    "from spacy.tokenizer import Tokenizer"
   ]
  },
  {
   "cell_type": "code",
   "execution_count": 12,
   "metadata": {},
   "outputs": [],
   "source": [
    "# Load Spacy Model\n",
    "nlp = spacy.load(\"en_core_web_md\")"
   ]
  },
  {
   "cell_type": "code",
   "execution_count": 13,
   "metadata": {},
   "outputs": [],
   "source": [
    "# Instantiate tokenizer\n",
    "tokenizer = Tokenizer(nlp.vocab)"
   ]
  },
  {
   "cell_type": "code",
   "execution_count": 14,
   "metadata": {},
   "outputs": [],
   "source": [
    "# Define Stop Words\n",
    "STOP_WORDS = nlp.Defaults.stop_words.union([' ', '  ', 'the', 'like', 'i', 'for', 'I', \"i've\",\n",
    "                                            'we', '\\n', '\\n\\n', 'my', 'this', 'as'])"
   ]
  },
  {
   "cell_type": "code",
   "execution_count": 15,
   "metadata": {},
   "outputs": [],
   "source": [
    "# Define tokenize function\n",
    "def tokenize(series):\n",
    "    for doc in tokenizer.pipe(series, batch_size = 500):\n",
    "        # Initialize doc tokens\n",
    "        doc_tokens = []\n",
    "\n",
    "        # Filter for stop words\n",
    "        for token in doc:\n",
    "            if token.text not in STOP_WORDS:\n",
    "                doc_tokens.append(token.text.lower())\n",
    "\n",
    "        # Append doc_tokens to tokens\n",
    "        tokens.append(doc_tokens)\n",
    "    return tokens"
   ]
  },
  {
   "cell_type": "code",
   "execution_count": 16,
   "metadata": {},
   "outputs": [],
   "source": [
    "# Apply tokenize function\n",
    "tokens = []\n",
    "tokens = tokenize(df['Description'])\n",
    "df['Tokens'] = tokens"
   ]
  },
  {
   "cell_type": "code",
   "execution_count": 17,
   "metadata": {},
   "outputs": [],
   "source": [
    "# Loop to clean up\n",
    "for token_list in tokens:\n",
    "    for token in token_list:\n",
    "        if token in STOP_WORDS:\n",
    "            token_list.remove(token)"
   ]
  },
  {
   "cell_type": "markdown",
   "metadata": {},
   "source": [
    "## Vector Representation"
   ]
  },
  {
   "cell_type": "code",
   "execution_count": 18,
   "metadata": {},
   "outputs": [],
   "source": [
    "# Clean up text\n",
    "clean_descriptions = []\n",
    "\n",
    "# Loop over tokens\n",
    "for token_list in df['Tokens']:\n",
    "    clean_description = ' '.join(token_list)\n",
    "    clean_descriptions.append(clean_description)"
   ]
  },
  {
   "cell_type": "code",
   "execution_count": 19,
   "metadata": {
    "scrolled": true
   },
   "outputs": [],
   "source": [
    "# Send to X\n",
    "df['clean_descriptions'] = clean_descriptions"
   ]
  },
  {
   "cell_type": "code",
   "execution_count": 23,
   "metadata": {},
   "outputs": [],
   "source": [
    "# Instantiate Vectorizer\n",
    "tfidf = TfidfVectorizer(stop_words = 'english')\n",
    "tfidf = tfidf.fit(df['clean_descriptions'])"
   ]
  },
  {
   "cell_type": "code",
   "execution_count": 25,
   "metadata": {},
   "outputs": [],
   "source": [
    "# Pickle Vectorizer\n",
    "filename = 'vectorizer_02.pkl'\n",
    "pickle.dump(tfidf, open(filename, 'wb'))"
   ]
  },
  {
   "cell_type": "code",
   "execution_count": 26,
   "metadata": {},
   "outputs": [],
   "source": [
    "# Create vocab and get word counts\n",
    "sparse = tfidf.transform(df['clean_descriptions'])"
   ]
  },
  {
   "cell_type": "code",
   "execution_count": 27,
   "metadata": {},
   "outputs": [],
   "source": [
    "# send the matrix to a DataFrame\n",
    "tfidf_dtm = pd.DataFrame(sparse.todense(), columns = tfidf.get_feature_names())"
   ]
  },
  {
   "cell_type": "markdown",
   "metadata": {},
   "source": [
    "## KNN Model"
   ]
  },
  {
   "cell_type": "code",
   "execution_count": 28,
   "metadata": {},
   "outputs": [
    {
     "data": {
      "text/plain": [
       "NearestNeighbors(algorithm='ball_tree', leaf_size=30, metric='minkowski',\n",
       "         metric_params=None, n_jobs=None, n_neighbors=5, p=2, radius=1.0)"
      ]
     },
     "execution_count": 28,
     "metadata": {},
     "output_type": "execute_result"
    }
   ],
   "source": [
    "# Instantiate nearest neighbors model\n",
    "nn = NearestNeighbors(n_neighbors=5, algorithm='ball_tree')\n",
    "nn.fit(tfidf_dtm)"
   ]
  },
  {
   "cell_type": "markdown",
   "metadata": {},
   "source": [
    "## Make Predictions (API)"
   ]
  },
  {
   "cell_type": "code",
   "execution_count": 1,
   "metadata": {},
   "outputs": [],
   "source": [
    "import pickle\n",
    "import pandas as pd\n",
    "\n",
    "from sklearn.feature_extraction.text import TfidfVectorizer"
   ]
  },
  {
   "cell_type": "code",
   "execution_count": 10,
   "metadata": {},
   "outputs": [],
   "source": [
    "# Get data\n",
    "df = pd.read_csv('../data/clean_can.csv')"
   ]
  },
  {
   "cell_type": "code",
   "execution_count": 6,
   "metadata": {},
   "outputs": [],
   "source": [
    "# Import model and Vectorizer\n",
    "nn = pickle.load(open(\"knn_02.pkl\", 'rb'))\n",
    "tfidf = pickle.load(open(\"vectorizer_02.pkl\", \"rb\"))"
   ]
  },
  {
   "cell_type": "code",
   "execution_count": 7,
   "metadata": {},
   "outputs": [],
   "source": [
    "# Create a fake weed review\n",
    "fake_input = \"\"\"nice cherry is an indica-dominant strain that captures the flavorful qualities of its cherry parent and the relaxing attributes of mr. nice. with an aroma of sweet skunk, pine, and berry, nice cherry delivers a rush of cerebral energy that lifts the mood while relaxing the body. \n",
    "it’ll also bring an edge back to your appetite while providing focus to keep you productive.\"\"\""
   ]
  },
  {
   "cell_type": "code",
   "execution_count": 8,
   "metadata": {},
   "outputs": [],
   "source": [
    "def get_5_recommendations(request):\n",
    "    # Transform\n",
    "    request = pd.Series(request)\n",
    "    request_sparse = tfidf.transform(request)\n",
    "\n",
    "    # Send to df\n",
    "    request_tfidf = pd.DataFrame(request_sparse.todense())\n",
    "\n",
    "    # Return a list of indexes\n",
    "    top5 = nn.kneighbors([request_tfidf][0], n_neighbors=5)[1][0].tolist()\n",
    "    \n",
    "    # Send recomendations to DataFrame\n",
    "    recommendations_df = df.iloc[top5]\n",
    "    \n",
    "    return recommendations_df"
   ]
  },
  {
   "cell_type": "code",
   "execution_count": 11,
   "metadata": {},
   "outputs": [],
   "source": [
    "# Test request function\n",
    "top5 = get_5_recommendations(fake_input)"
   ]
  },
  {
   "cell_type": "code",
   "execution_count": 12,
   "metadata": {},
   "outputs": [
    {
     "data": {
      "text/html": [
       "<div>\n",
       "<style scoped>\n",
       "    .dataframe tbody tr th:only-of-type {\n",
       "        vertical-align: middle;\n",
       "    }\n",
       "\n",
       "    .dataframe tbody tr th {\n",
       "        vertical-align: top;\n",
       "    }\n",
       "\n",
       "    .dataframe thead th {\n",
       "        text-align: right;\n",
       "    }\n",
       "</style>\n",
       "<table border=\"1\" class=\"dataframe\">\n",
       "  <thead>\n",
       "    <tr style=\"text-align: right;\">\n",
       "      <th></th>\n",
       "      <th>Unnamed: 0</th>\n",
       "      <th>index</th>\n",
       "      <th>Strain</th>\n",
       "      <th>Type</th>\n",
       "      <th>Rating</th>\n",
       "      <th>Effects</th>\n",
       "      <th>Flavor</th>\n",
       "      <th>Description</th>\n",
       "    </tr>\n",
       "  </thead>\n",
       "  <tbody>\n",
       "    <tr>\n",
       "      <th>1423</th>\n",
       "      <td>1423</td>\n",
       "      <td>1458</td>\n",
       "      <td>nice-cherry</td>\n",
       "      <td>indica</td>\n",
       "      <td>4.6</td>\n",
       "      <td>happy,talkative,uplifted,relaxed,hungry</td>\n",
       "      <td>sweet,berry,pungent</td>\n",
       "      <td>nice cherry is an indica-dominant strain that ...</td>\n",
       "    </tr>\n",
       "    <tr>\n",
       "      <th>1652</th>\n",
       "      <td>1655</td>\n",
       "      <td>1703</td>\n",
       "      <td>purple-mr-nice</td>\n",
       "      <td>indica</td>\n",
       "      <td>4.2</td>\n",
       "      <td>relaxed,sleepy,euphoric,happy,uplifted</td>\n",
       "      <td>pine,earthy,grape</td>\n",
       "      <td>granddaddy purple crossed with mr. nice.  this...</td>\n",
       "    </tr>\n",
       "    <tr>\n",
       "      <th>496</th>\n",
       "      <td>496</td>\n",
       "      <td>505</td>\n",
       "      <td>cherry-durban-poison</td>\n",
       "      <td>hybrid</td>\n",
       "      <td>4.3</td>\n",
       "      <td>uplifted,giggly,sleepy,aroused,euphoric</td>\n",
       "      <td>flowery,citrus,sweet</td>\n",
       "      <td>cherry durban poison is a hybrid strain that b...</td>\n",
       "    </tr>\n",
       "    <tr>\n",
       "      <th>498</th>\n",
       "      <td>498</td>\n",
       "      <td>507</td>\n",
       "      <td>cherry-grapefruit</td>\n",
       "      <td>hybrid</td>\n",
       "      <td>4.3</td>\n",
       "      <td>creative,happy,relaxed,tingly,uplifted</td>\n",
       "      <td>berry,sweet,flowery</td>\n",
       "      <td>cherry grapefruit by kera seeds is a super fru...</td>\n",
       "    </tr>\n",
       "    <tr>\n",
       "      <th>502</th>\n",
       "      <td>502</td>\n",
       "      <td>511</td>\n",
       "      <td>cherry-og</td>\n",
       "      <td>hybrid</td>\n",
       "      <td>4.2</td>\n",
       "      <td>euphoric,relaxed,happy,uplifted,hungry</td>\n",
       "      <td>berry,diesel,sweet</td>\n",
       "      <td>cherry og by emerald triangle seeds is a hybri...</td>\n",
       "    </tr>\n",
       "  </tbody>\n",
       "</table>\n",
       "</div>"
      ],
      "text/plain": [
       "      Unnamed: 0  index                Strain    Type  Rating  \\\n",
       "1423        1423   1458           nice-cherry  indica     4.6   \n",
       "1652        1655   1703        purple-mr-nice  indica     4.2   \n",
       "496          496    505  cherry-durban-poison  hybrid     4.3   \n",
       "498          498    507     cherry-grapefruit  hybrid     4.3   \n",
       "502          502    511             cherry-og  hybrid     4.2   \n",
       "\n",
       "                                      Effects                Flavor  \\\n",
       "1423  happy,talkative,uplifted,relaxed,hungry   sweet,berry,pungent   \n",
       "1652   relaxed,sleepy,euphoric,happy,uplifted     pine,earthy,grape   \n",
       "496   uplifted,giggly,sleepy,aroused,euphoric  flowery,citrus,sweet   \n",
       "498    creative,happy,relaxed,tingly,uplifted   berry,sweet,flowery   \n",
       "502    euphoric,relaxed,happy,uplifted,hungry    berry,diesel,sweet   \n",
       "\n",
       "                                            Description  \n",
       "1423  nice cherry is an indica-dominant strain that ...  \n",
       "1652  granddaddy purple crossed with mr. nice.  this...  \n",
       "496   cherry durban poison is a hybrid strain that b...  \n",
       "498   cherry grapefruit by kera seeds is a super fru...  \n",
       "502   cherry og by emerald triangle seeds is a hybri...  "
      ]
     },
     "execution_count": 12,
     "metadata": {},
     "output_type": "execute_result"
    }
   ],
   "source": [
    "# Send recomendations to DataFrame\n",
    "top5"
   ]
  },
  {
   "cell_type": "markdown",
   "metadata": {},
   "source": [
    "## Pickle Model"
   ]
  },
  {
   "cell_type": "code",
   "execution_count": 107,
   "metadata": {},
   "outputs": [],
   "source": [
    "import pickle"
   ]
  },
  {
   "cell_type": "code",
   "execution_count": 108,
   "metadata": {},
   "outputs": [],
   "source": [
    "# Export Pickle File\n",
    "filename = 'knn_02.pkl'\n",
    "pickle.dump(nn, open(filename, 'wb'))"
   ]
  }
 ],
 "metadata": {
  "kernelspec": {
   "display_name": "Python 3",
   "language": "python",
   "name": "python3"
  },
  "language_info": {
   "codemirror_mode": {
    "name": "ipython",
    "version": 3
   },
   "file_extension": ".py",
   "mimetype": "text/x-python",
   "name": "python",
   "nbconvert_exporter": "python",
   "pygments_lexer": "ipython3",
   "version": "3.7.3"
  }
 },
 "nbformat": 4,
 "nbformat_minor": 2
}
